{
 "cells": [
  {
   "cell_type": "code",
   "execution_count": 1,
   "metadata": {},
   "outputs": [],
   "source": [
    "# Membuat List kosong\n",
    "warna = []\n",
    "\n",
    "# Membuat list dengan isi 1 item\n",
    "hobi = [\"membaca\"]"
   ]
  },
  {
   "cell_type": "code",
   "execution_count": 2,
   "metadata": {},
   "outputs": [],
   "source": [
    "buah = [\"jeruk\", \"apel\", \"mangga\", \"duren\"]"
   ]
  },
  {
   "cell_type": "code",
   "execution_count": 3,
   "metadata": {},
   "outputs": [],
   "source": [
    "laci = [\"buku\", 21, True, 34.12]"
   ]
  },
  {
   "cell_type": "code",
   "execution_count": 5,
   "metadata": {},
   "outputs": [
    {
     "name": "stdout",
     "output_type": "stream",
     "text": [
      "mangga\n"
     ]
    }
   ],
   "source": [
    "# Kita punya list nama-nama buah\n",
    "buah = [\"apel\", \"anggur\", \"mangga\", \"jeruk\"]\n",
    "\n",
    "# Misanya kita ingin mengambil mangga\n",
    "# Maka indeknya adalah 2\n",
    "print(buah[2])"
   ]
  },
  {
   "cell_type": "code",
   "execution_count": 7,
   "metadata": {},
   "outputs": [
    {
     "name": "stdout",
     "output_type": "stream",
     "text": [
      "Isi my_friends indeks ke-3 adalah: Adi\n",
      "Semua teman: ada 5 orang\n",
      "Anggun\n",
      "Dian\n",
      "Agung\n",
      "Adi\n",
      "Adam\n"
     ]
    }
   ],
   "source": [
    "# Buat list untuk menampung nama-nama teman\n",
    "my_friends = [\"Anggun\", \"Dian\", \"Agung\", \"Adi\", \"Adam\"]\n",
    "\n",
    "# Tampilkan isi list my_friends dengan nomer indeks 3\n",
    "print (\"Isi my_friends indeks ke-3 adalah: {}\".format(my_friends[3]))\n",
    "\n",
    "# Tampilkan semua daftar teman\n",
    "print (\"Semua teman: ada {} orang\".format(len(my_friends)))\n",
    "for friend in my_friends:\n",
    "    print(friend)"
   ]
  },
  {
   "cell_type": "code",
   "execution_count": 8,
   "metadata": {},
   "outputs": [],
   "source": [
    "# list mula-mula\n",
    "buah = [\"jeruk\", \"apel\", \"mangga\", \"duren\"]\n",
    "# mengubah nilai index ke-2\n",
    "buah[2] = \"kelapa\""
   ]
  },
  {
   "cell_type": "code",
   "execution_count": 9,
   "metadata": {},
   "outputs": [
    {
     "name": "stdout",
     "output_type": "stream",
     "text": [
      "['jeruk', 'apel', 'kelapa', 'duren']\n"
     ]
    }
   ],
   "source": [
    "print(buah)"
   ]
  },
  {
   "cell_type": "code",
   "execution_count": 10,
   "metadata": {},
   "outputs": [],
   "source": [
    "#list mula-mula\n",
    "buah = [\"jeruk\", \"apel\", \"mangga\", \"duren\"]\n",
    "# Tambahkan manggis\n",
    "buah.append(\"manggis\")"
   ]
  },
  {
   "cell_type": "code",
   "execution_count": 11,
   "metadata": {},
   "outputs": [
    {
     "name": "stdout",
     "output_type": "stream",
     "text": [
      "['jeruk', 'apel', 'mangga', 'duren', 'manggis']\n"
     ]
    }
   ],
   "source": [
    "print(buah)"
   ]
  },
  {
   "cell_type": "code",
   "execution_count": null,
   "metadata": {},
   "outputs": [],
   "source": []
  }
 ],
 "metadata": {
  "kernelspec": {
   "display_name": "Python 3",
   "language": "python",
   "name": "python3"
  },
  "language_info": {
   "codemirror_mode": {
    "name": "ipython",
    "version": 3
   },
   "file_extension": ".py",
   "mimetype": "text/x-python",
   "name": "python",
   "nbconvert_exporter": "python",
   "pygments_lexer": "ipython3",
   "version": "3.7.4"
  }
 },
 "nbformat": 4,
 "nbformat_minor": 4
}
