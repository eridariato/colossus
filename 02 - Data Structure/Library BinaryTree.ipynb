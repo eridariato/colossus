{
 "cells": [
  {
   "cell_type": "code",
   "execution_count": 1,
   "metadata": {},
   "outputs": [],
   "source": [
    "## By default BinaryTree library use following nodes\n",
    "class Node(object):\n",
    "\n",
    "    def __init__(self, value, left=None, right=None):\n",
    "        self.val = value    # The node value\n",
    "        self.left = left    # Left child\n",
    "        self.right = right  # Right child"
   ]
  },
  {
   "cell_type": "code",
   "execution_count": 2,
   "metadata": {},
   "outputs": [],
   "source": [
    "from binarytree import tree, bst, heap"
   ]
  },
  {
   "cell_type": "code",
   "execution_count": 3,
   "metadata": {},
   "outputs": [
    {
     "name": "stdout",
     "output_type": "stream",
     "text": [
      "\n",
      "       ______2____\n",
      "      /           \\\n",
      "     12          __6\n",
      "    /  \\        /   \\\n",
      "  _7    9      1     5\n",
      " /       \\      \\     \\\n",
      "14        13     8     4\n",
      "\n",
      "\n",
      "        ______7_______\n",
      "       /              \\\n",
      "    __3__           ___11___\n",
      "   /     \\         /        \\\n",
      "  1       5       9         _13\n",
      " / \\     / \\     / \\       /   \\\n",
      "0   2   4   6   8   10    12    14\n",
      "\n",
      "\n",
      "      ___12__\n",
      "     /       \\\n",
      "    11        2\n",
      "   /  \\      / \\\n",
      "  7    4    0   1\n",
      " /\n",
      "6\n",
      "\n"
     ]
    }
   ],
   "source": [
    "from binarytree import tree, bst, heap\n",
    "\n",
    "# Generate a random binary tree and return its root node\n",
    "my_tree = tree(height=3, is_perfect=False)\n",
    "\n",
    "# Generate a random BST and return its root node\n",
    "my_bst = bst(height=3, is_perfect=True)\n",
    "\n",
    "# Generate a random max heap and return its root node\n",
    "my_heap = heap(height=3, is_max=True, is_perfect=False)\n",
    "\n",
    "# Pretty-print the trees in stdout\n",
    "print(my_tree)\n",
    "#\n",
    "#        _______1_____\n",
    "#       /             \\\n",
    "#      4__          ___3\n",
    "#     /   \\        /    \\\n",
    "#    0     9      13     14\n",
    "#         / \\       \\\n",
    "#        7   10      2\n",
    "#\n",
    "print(my_bst)\n",
    "#\n",
    "#            ______7_______\n",
    "#           /              \\\n",
    "#        __3__           ___11___\n",
    "#       /     \\         /        \\\n",
    "#      1       5       9         _13\n",
    "#     / \\     / \\     / \\       /   \\\n",
    "#    0   2   4   6   8   10    12    14\n",
    "#\n",
    "print(my_heap)\n",
    "#\n",
    "#              _____14__\n",
    "#             /         \\\n",
    "#        ____13__        9\n",
    "#       /        \\      / \\\n",
    "#      12         7    3   8\n",
    "#     /  \\       /\n",
    "#    0    10    6\n",
    "#"
   ]
  },
  {
   "cell_type": "code",
   "execution_count": null,
   "metadata": {},
   "outputs": [],
   "source": []
  }
 ],
 "metadata": {
  "kernelspec": {
   "display_name": "Python 3",
   "language": "python",
   "name": "python3"
  },
  "language_info": {
   "codemirror_mode": {
    "name": "ipython",
    "version": 3
   },
   "file_extension": ".py",
   "mimetype": "text/x-python",
   "name": "python",
   "nbconvert_exporter": "python",
   "pygments_lexer": "ipython3",
   "version": "3.7.4"
  }
 },
 "nbformat": 4,
 "nbformat_minor": 4
}
